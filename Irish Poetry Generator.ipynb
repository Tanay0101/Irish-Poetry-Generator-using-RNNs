{
 "cells": [
  {
   "cell_type": "code",
   "execution_count": 1,
   "metadata": {},
   "outputs": [
    {
     "name": "stderr",
     "output_type": "stream",
     "text": [
      "Using TensorFlow backend.\n"
     ]
    }
   ],
   "source": [
    "import keras\n",
    "from keras.layers import Dense,LSTM,Embedding,Bidirectional\n",
    "from keras.preprocessing.text import Tokenizer\n",
    "from keras.preprocessing.sequence import pad_sequences\n",
    "\n",
    "import numpy as np"
   ]
  },
  {
   "cell_type": "code",
   "execution_count": 2,
   "metadata": {},
   "outputs": [],
   "source": [
    "with open(\"lyrics.txt\",'r') as file:\n",
    "    data =[]\n",
    "    lines = file.readlines()\n",
    "    tokenizer  = Tokenizer()\n",
    "    for i in range(len(lines)):\n",
    "        line = lines[i]\n",
    "        line = line.lower()\n",
    "        data.append(line)\n",
    "        \n",
    "    tokenizer.fit_on_texts(data)\n",
    "word_index = tokenizer.word_index"
   ]
  },
  {
   "cell_type": "code",
   "execution_count": 3,
   "metadata": {},
   "outputs": [],
   "source": [
    "input_sequences = []\n",
    "labels = []\n",
    "for line in data:\n",
    "    sequence = tokenizer.texts_to_sequences([line])[0]\n",
    "    for i in range(1,len(sequence)):\n",
    "        token_list = sequence[:i]\n",
    "        label = sequence[i]\n",
    "        labels.append(label)\n",
    "        input_sequences.append(token_list)\n",
    "    "
   ]
  },
  {
   "cell_type": "code",
   "execution_count": 4,
   "metadata": {},
   "outputs": [],
   "source": [
    "input_sequences = pad_sequences(input_sequences)"
   ]
  },
  {
   "cell_type": "code",
   "execution_count": 5,
   "metadata": {},
   "outputs": [
    {
     "name": "stdout",
     "output_type": "stream",
     "text": [
      "15\n",
      "2690\n"
     ]
    }
   ],
   "source": [
    "max_length = len(input_sequences[0])\n",
    "print(max_length)\n",
    "total_words = len(word_index)+1  #because word_index starts from 1\n",
    "print(total_words)"
   ]
  },
  {
   "cell_type": "code",
   "execution_count": 6,
   "metadata": {},
   "outputs": [],
   "source": [
    "model  = keras.Sequential([Embedding(total_words,100,input_length = max_length),\n",
    "                          Bidirectional(LSTM(64)),\n",
    "                           Dense(total_words,activation = \"softmax\")\n",
    "                          ])\n",
    "from keras.callbacks import ModelCheckpoint\n",
    "checkpoint_cb = ModelCheckpoint('model.h5',save_best_only=True, monitor = 'train_loss')"
   ]
  },
  {
   "cell_type": "code",
   "execution_count": 7,
   "metadata": {},
   "outputs": [
    {
     "name": "stderr",
     "output_type": "stream",
     "text": [
      "C:\\Users\\Dev\\Miniconda3\\envs\\tfgpu\\lib\\site-packages\\tensorflow_core\\python\\framework\\indexed_slices.py:433: UserWarning: Converting sparse IndexedSlices to a dense Tensor of unknown shape. This may consume a large amount of memory.\n",
      "  \"Converting sparse IndexedSlices to a dense Tensor of unknown shape. \"\n"
     ]
    },
    {
     "name": "stdout",
     "output_type": "stream",
     "text": [
      "Epoch 1/125\n",
      "12038/12038 [==============================] - 8s 703us/step - loss: 6.7797 - acc: 0.0649\n",
      "Epoch 2/125\n",
      "  192/12038 [..............................] - ETA: 9s - loss: 6.4087 - acc: 0.0469"
     ]
    },
    {
     "name": "stderr",
     "output_type": "stream",
     "text": [
      "C:\\Users\\Dev\\Miniconda3\\envs\\tfgpu\\lib\\site-packages\\keras\\callbacks\\callbacks.py:707: RuntimeWarning: Can save best model only with train_loss available, skipping.\n",
      "  'skipping.' % (self.monitor), RuntimeWarning)\n"
     ]
    },
    {
     "name": "stdout",
     "output_type": "stream",
     "text": [
      "12038/12038 [==============================] - 8s 667us/step - loss: 6.2815 - acc: 0.0709\n",
      "Epoch 3/125\n",
      "12038/12038 [==============================] - 8s 660us/step - loss: 6.0880 - acc: 0.0807\n",
      "Epoch 4/125\n",
      "12038/12038 [==============================] - 8s 665us/step - loss: 5.8979 - acc: 0.0925\n",
      "Epoch 5/125\n",
      "12038/12038 [==============================] - 9s 732us/step - loss: 5.6997 - acc: 0.1022\n",
      "Epoch 6/125\n",
      "12038/12038 [==============================] - 8s 700us/step - loss: 5.5072 - acc: 0.1111\n",
      "Epoch 7/125\n",
      "12038/12038 [==============================] - 8s 688us/step - loss: 5.3262 - acc: 0.1214 0s - loss: 5.3274 - acc: 0.12\n",
      "Epoch 8/125\n",
      "12038/12038 [==============================] - 10s 801us/step - loss: 5.1522 - acc: 0.1306\n",
      "Epoch 9/125\n",
      "12038/12038 [==============================] - 9s 758us/step - loss: 4.9797 - acc: 0.1401\n",
      "Epoch 10/125\n",
      "12038/12038 [==============================] - 8s 700us/step - loss: 4.8096 - acc: 0.1504\n",
      "Epoch 11/125\n",
      "12038/12038 [==============================] - 8s 678us/step - loss: 4.6449 - acc: 0.1592\n",
      "Epoch 12/125\n",
      "12038/12038 [==============================] - 8s 679us/step - loss: 4.4726 - acc: 0.1754 0s - loss: 4.4596 - ac\n",
      "Epoch 13/125\n",
      "12038/12038 [==============================] - 8s 687us/step - loss: 4.3014 - acc: 0.1916\n",
      "Epoch 14/125\n",
      "12038/12038 [==============================] - 8s 680us/step - loss: 4.1330 - acc: 0.2112 1s - loss:\n",
      "Epoch 15/125\n",
      "12038/12038 [==============================] - 8s 682us/step - loss: 3.9743 - acc: 0.2269\n",
      "Epoch 16/125\n",
      "12038/12038 [==============================] - 8s 689us/step - loss: 3.8128 - acc: 0.2449\n",
      "Epoch 17/125\n",
      "12038/12038 [==============================] - 8s 665us/step - loss: 3.6549 - acc: 0.2709\n",
      "Epoch 18/125\n",
      "12038/12038 [==============================] - 8s 688us/step - loss: 3.5064 - acc: 0.2945\n",
      "Epoch 19/125\n",
      "12038/12038 [==============================] - 8s 676us/step - loss: 3.3612 - acc: 0.3170\n",
      "Epoch 20/125\n",
      "12038/12038 [==============================] - 8s 678us/step - loss: 3.2193 - acc: 0.3446\n",
      "Epoch 21/125\n",
      "12038/12038 [==============================] - 8s 688us/step - loss: 3.0885 - acc: 0.3687\n",
      "Epoch 22/125\n",
      "12038/12038 [==============================] - 8s 684us/step - loss: 2.9529 - acc: 0.3904\n",
      "Epoch 23/125\n",
      "12038/12038 [==============================] - 8s 680us/step - loss: 2.8264 - acc: 0.4221 1s - loss: \n",
      "Epoch 24/125\n",
      "12038/12038 [==============================] - 8s 687us/step - loss: 2.7080 - acc: 0.4360\n",
      "Epoch 25/125\n",
      "12038/12038 [==============================] - 8s 688us/step - loss: 2.5990 - acc: 0.4611\n",
      "Epoch 26/125\n",
      "12038/12038 [==============================] - 8s 684us/step - loss: 2.4848 - acc: 0.4851\n",
      "Epoch 27/125\n",
      "12038/12038 [==============================] - 8s 684us/step - loss: 2.3873 - acc: 0.4983\n",
      "Epoch 28/125\n",
      "12038/12038 [==============================] - 8s 687us/step - loss: 2.2854 - acc: 0.5219\n",
      "Epoch 29/125\n",
      "12038/12038 [==============================] - 8s 684us/step - loss: 2.1890 - acc: 0.5379\n",
      "Epoch 30/125\n",
      "12038/12038 [==============================] - 8s 683us/step - loss: 2.1033 - acc: 0.5554\n",
      "Epoch 31/125\n",
      "12038/12038 [==============================] - 8s 696us/step - loss: 2.0170 - acc: 0.5736\n",
      "Epoch 32/125\n",
      "12038/12038 [==============================] - 8s 683us/step - loss: 1.9352 - acc: 0.5873\n",
      "Epoch 33/125\n",
      "12038/12038 [==============================] - 8s 687us/step - loss: 1.8590 - acc: 0.6064\n",
      "Epoch 34/125\n",
      "12038/12038 [==============================] - 8s 685us/step - loss: 1.7843 - acc: 0.6234\n",
      "Epoch 35/125\n",
      "12038/12038 [==============================] - 8s 695us/step - loss: 1.7199 - acc: 0.6350\n",
      "Epoch 36/125\n",
      "12038/12038 [==============================] - 9s 706us/step - loss: 1.6513 - acc: 0.6510\n",
      "Epoch 37/125\n",
      "12038/12038 [==============================] - 8s 693us/step - loss: 1.5987 - acc: 0.6619\n",
      "Epoch 38/125\n",
      "12038/12038 [==============================] - 8s 685us/step - loss: 1.5391 - acc: 0.6700\n",
      "Epoch 39/125\n",
      "12038/12038 [==============================] - 8s 688us/step - loss: 1.4861 - acc: 0.6828\n",
      "Epoch 40/125\n",
      "12038/12038 [==============================] - 9s 746us/step - loss: 1.4278 - acc: 0.6969\n",
      "Epoch 41/125\n",
      "12038/12038 [==============================] - 9s 713us/step - loss: 1.3764 - acc: 0.7072\n",
      "Epoch 42/125\n",
      "12038/12038 [==============================] - 9s 726us/step - loss: 1.3274 - acc: 0.7160\n",
      "Epoch 43/125\n",
      "12038/12038 [==============================] - 10s 808us/step - loss: 1.2897 - acc: 0.7226\n",
      "Epoch 44/125\n",
      "12038/12038 [==============================] - 9s 769us/step - loss: 1.2453 - acc: 0.7312\n",
      "Epoch 45/125\n",
      "12038/12038 [==============================] - 8s 698us/step - loss: 1.1973 - acc: 0.7415\n",
      "Epoch 46/125\n",
      "12038/12038 [==============================] - 9s 710us/step - loss: 1.1607 - acc: 0.7473\n",
      "Epoch 47/125\n",
      "12038/12038 [==============================] - 9s 724us/step - loss: 1.1266 - acc: 0.7583\n",
      "Epoch 48/125\n",
      "12038/12038 [==============================] - 8s 697us/step - loss: 1.0945 - acc: 0.7623\n",
      "Epoch 49/125\n",
      "12038/12038 [==============================] - 8s 678us/step - loss: 1.0493 - acc: 0.7728\n",
      "Epoch 50/125\n",
      "12038/12038 [==============================] - 8s 675us/step - loss: 1.0298 - acc: 0.7767\n",
      "Epoch 51/125\n",
      "12038/12038 [==============================] - 8s 671us/step - loss: 0.9967 - acc: 0.7807\n",
      "Epoch 52/125\n",
      "12038/12038 [==============================] - 8s 674us/step - loss: 0.9788 - acc: 0.7858\n",
      "Epoch 53/125\n",
      "12038/12038 [==============================] - 8s 673us/step - loss: 0.9415 - acc: 0.7942\n",
      "Epoch 54/125\n",
      "12038/12038 [==============================] - 8s 669us/step - loss: 0.9202 - acc: 0.7951\n",
      "Epoch 55/125\n",
      "12038/12038 [==============================] - 8s 671us/step - loss: 0.8970 - acc: 0.8005\n",
      "Epoch 56/125\n",
      "12038/12038 [==============================] - 8s 676us/step - loss: 0.8655 - acc: 0.8059\n",
      "Epoch 57/125\n",
      "12038/12038 [==============================] - 8s 670us/step - loss: 0.8498 - acc: 0.8085\n",
      "Epoch 58/125\n",
      "12038/12038 [==============================] - 8s 681us/step - loss: 0.8416 - acc: 0.8123\n",
      "Epoch 59/125\n",
      "12038/12038 [==============================] - 8s 696us/step - loss: 0.8044 - acc: 0.8172\n",
      "Epoch 60/125\n",
      "12038/12038 [==============================] - 8s 697us/step - loss: 0.7872 - acc: 0.8225\n",
      "Epoch 61/125\n",
      "12038/12038 [==============================] - 9s 735us/step - loss: 0.7619 - acc: 0.8231\n",
      "Epoch 62/125\n",
      "12038/12038 [==============================] - 9s 735us/step - loss: 0.7624 - acc: 0.8237 1s - loss: 0.756\n",
      "Epoch 63/125\n",
      "12038/12038 [==============================] - 7s 611us/step - loss: 0.7465 - acc: 0.8265\n",
      "Epoch 64/125\n",
      "12038/12038 [==============================] - 7s 606us/step - loss: 0.7198 - acc: 0.8309\n",
      "Epoch 65/125\n",
      "12038/12038 [==============================] - 7s 602us/step - loss: 0.7063 - acc: 0.8331\n",
      "Epoch 66/125\n",
      "12038/12038 [==============================] - 7s 601us/step - loss: 0.7039 - acc: 0.8339\n",
      "Epoch 67/125\n",
      "12038/12038 [==============================] - 7s 602us/step - loss: 0.6989 - acc: 0.8328\n",
      "Epoch 68/125\n",
      "12038/12038 [==============================] - 7s 600us/step - loss: 0.6865 - acc: 0.8348\n",
      "Epoch 69/125\n",
      "12038/12038 [==============================] - 7s 602us/step - loss: 0.6761 - acc: 0.8368 1s - \n",
      "Epoch 70/125\n",
      "12038/12038 [==============================] - 7s 615us/step - loss: 0.6538 - acc: 0.8403\n",
      "Epoch 71/125\n",
      "12038/12038 [==============================] - 7s 604us/step - loss: 0.6426 - acc: 0.8418\n",
      "Epoch 72/125\n",
      "12038/12038 [==============================] - 7s 603us/step - loss: 0.6312 - acc: 0.8436\n",
      "Epoch 73/125\n",
      "12038/12038 [==============================] - 7s 602us/step - loss: 0.6256 - acc: 0.8433\n",
      "Epoch 74/125\n",
      "12038/12038 [==============================] - 7s 602us/step - loss: 0.6320 - acc: 0.8425\n",
      "Epoch 75/125\n",
      "12038/12038 [==============================] - 7s 605us/step - loss: 0.6251 - acc: 0.8410\n",
      "Epoch 76/125\n",
      "12038/12038 [==============================] - 7s 601us/step - loss: 0.6161 - acc: 0.8450\n",
      "Epoch 77/125\n",
      "12038/12038 [==============================] - 7s 601us/step - loss: 0.6031 - acc: 0.8472\n",
      "Epoch 78/125\n",
      "12038/12038 [==============================] - 7s 604us/step - loss: 0.6033 - acc: 0.8445\n",
      "Epoch 79/125\n",
      "12038/12038 [==============================] - 7s 601us/step - loss: 0.6004 - acc: 0.8446\n",
      "Epoch 80/125\n"
     ]
    },
    {
     "name": "stdout",
     "output_type": "stream",
     "text": [
      "12038/12038 [==============================] - 7s 605us/step - loss: 0.5805 - acc: 0.8477\n",
      "Epoch 81/125\n",
      "12038/12038 [==============================] - 9s 709us/step - loss: 0.5765 - acc: 0.8480\n",
      "Epoch 82/125\n",
      "12038/12038 [==============================] - 8s 683us/step - loss: 0.5766 - acc: 0.8469\n",
      "Epoch 83/125\n",
      "12038/12038 [==============================] - 8s 671us/step - loss: 0.5751 - acc: 0.8476\n",
      "Epoch 84/125\n",
      "12038/12038 [==============================] - 8s 671us/step - loss: 0.5713 - acc: 0.8477\n",
      "Epoch 85/125\n",
      "12038/12038 [==============================] - 8s 668us/step - loss: 0.5583 - acc: 0.8502\n",
      "Epoch 86/125\n",
      "12038/12038 [==============================] - 8s 667us/step - loss: 0.5516 - acc: 0.8511\n",
      "Epoch 87/125\n",
      "12038/12038 [==============================] - 8s 670us/step - loss: 0.5486 - acc: 0.8497\n",
      "Epoch 88/125\n",
      "12038/12038 [==============================] - 8s 669us/step - loss: 0.5515 - acc: 0.8506\n",
      "Epoch 89/125\n",
      "12038/12038 [==============================] - 8s 682us/step - loss: 0.5465 - acc: 0.8493\n",
      "Epoch 90/125\n",
      "12038/12038 [==============================] - 8s 679us/step - loss: 0.5404 - acc: 0.8513\n",
      "Epoch 91/125\n",
      "12038/12038 [==============================] - 8s 674us/step - loss: 0.5462 - acc: 0.8488\n",
      "Epoch 92/125\n",
      "12038/12038 [==============================] - 8s 678us/step - loss: 0.5424 - acc: 0.8501\n",
      "Epoch 93/125\n",
      "12038/12038 [==============================] - 8s 675us/step - loss: 0.5342 - acc: 0.8495\n",
      "Epoch 94/125\n",
      "12038/12038 [==============================] - 8s 673us/step - loss: 0.5309 - acc: 0.8509\n",
      "Epoch 95/125\n",
      "12038/12038 [==============================] - 8s 682us/step - loss: 0.5241 - acc: 0.8529\n",
      "Epoch 96/125\n",
      "12038/12038 [==============================] - 8s 686us/step - loss: 0.5200 - acc: 0.8515\n",
      "Epoch 97/125\n",
      "12038/12038 [==============================] - 8s 672us/step - loss: 0.5291 - acc: 0.8510 1s - loss: 0.\n",
      "Epoch 98/125\n",
      "12038/12038 [==============================] - 8s 677us/step - loss: 0.5435 - acc: 0.8489\n",
      "Epoch 99/125\n",
      "12038/12038 [==============================] - 8s 677us/step - loss: 0.5289 - acc: 0.8499\n",
      "Epoch 100/125\n",
      "12038/12038 [==============================] - 8s 677us/step - loss: 0.5235 - acc: 0.8513\n",
      "Epoch 101/125\n",
      "12038/12038 [==============================] - 8s 674us/step - loss: 0.5195 - acc: 0.8518\n",
      "Epoch 102/125\n",
      "12038/12038 [==============================] - 8s 676us/step - loss: 0.5090 - acc: 0.8534\n",
      "Epoch 103/125\n",
      "12038/12038 [==============================] - 8s 673us/step - loss: 0.5060 - acc: 0.8530\n",
      "Epoch 104/125\n",
      "12038/12038 [==============================] - 8s 680us/step - loss: 0.5089 - acc: 0.8535\n",
      "Epoch 105/125\n",
      "12038/12038 [==============================] - 8s 680us/step - loss: 0.5057 - acc: 0.8545\n",
      "Epoch 106/125\n",
      "12038/12038 [==============================] - 8s 675us/step - loss: 0.5021 - acc: 0.8547\n",
      "Epoch 107/125\n",
      "12038/12038 [==============================] - 9s 712us/step - loss: 0.5026 - acc: 0.8540\n",
      "Epoch 108/125\n",
      "12038/12038 [==============================] - 8s 687us/step - loss: 0.5052 - acc: 0.8521\n",
      "Epoch 109/125\n",
      "12038/12038 [==============================] - 9s 714us/step - loss: 0.5099 - acc: 0.8522\n",
      "Epoch 110/125\n",
      "12038/12038 [==============================] - 9s 741us/step - loss: 0.5168 - acc: 0.8498\n",
      "Epoch 111/125\n",
      "12038/12038 [==============================] - 8s 693us/step - loss: 0.5088 - acc: 0.8525\n",
      "Epoch 112/125\n",
      "12038/12038 [==============================] - 8s 690us/step - loss: 0.4985 - acc: 0.8531\n",
      "Epoch 113/125\n",
      "12038/12038 [==============================] - 8s 683us/step - loss: 0.4961 - acc: 0.8548\n",
      "Epoch 114/125\n",
      "12038/12038 [==============================] - 8s 685us/step - loss: 0.4976 - acc: 0.8513\n",
      "Epoch 115/125\n",
      "12038/12038 [==============================] - 8s 683us/step - loss: 0.4976 - acc: 0.8545\n",
      "Epoch 116/125\n",
      "12038/12038 [==============================] - 8s 688us/step - loss: 0.4941 - acc: 0.8530 1s - loss:\n",
      "Epoch 117/125\n",
      "12038/12038 [==============================] - 8s 680us/step - loss: 0.4885 - acc: 0.8552\n",
      "Epoch 118/125\n",
      "12038/12038 [==============================] - 8s 686us/step - loss: 0.4876 - acc: 0.8530\n",
      "Epoch 119/125\n",
      "12038/12038 [==============================] - 8s 679us/step - loss: 0.4951 - acc: 0.8517\n",
      "Epoch 120/125\n",
      "12038/12038 [==============================] - 9s 707us/step - loss: 0.5104 - acc: 0.8508\n",
      "Epoch 121/125\n",
      "12038/12038 [==============================] - 8s 696us/step - loss: 0.5087 - acc: 0.8501\n",
      "Epoch 122/125\n",
      "12038/12038 [==============================] - 8s 684us/step - loss: 0.4975 - acc: 0.8518\n",
      "Epoch 123/125\n",
      "12038/12038 [==============================] - 8s 687us/step - loss: 0.4888 - acc: 0.8535\n",
      "Epoch 124/125\n",
      "12038/12038 [==============================] - 8s 697us/step - loss: 0.4960 - acc: 0.8515\n",
      "Epoch 125/125\n",
      "12038/12038 [==============================] - 8s 697us/step - loss: 0.4832 - acc: 0.8541\n"
     ]
    }
   ],
   "source": [
    "model.compile(optimizer = \"adam\", loss = \"sparse_categorical_crossentropy\", metrics = [\"acc\"])\n",
    "history = model.fit(input_sequences, labels, epochs=125,callbacks = [checkpoint_cb])"
   ]
  },
  {
   "cell_type": "code",
   "execution_count": 8,
   "metadata": {},
   "outputs": [
    {
     "name": "stdout",
     "output_type": "stream",
     "text": [
      "Help me Obi Wan Kenobi you are my only hope were red as gentle as my sun mythology mythology smoke wander fleet springtime wings same tore linnet grand smoke smoke killarneys makes returned magic everywhere told makes constant toomebridge please rove handsome salley venture wander wander laity smoke wings smoke sword open dance smiled name answer handsome moaning laity wonders moaning sudden trades wedding naught stony makes magic havent harm constant harm returned whats doesnt credit she whispers rose away away from me and they were only time brave on a water both boo round springtime everywhere harm constant fray caused wind useless wind fol lay mounted nelly scruff clergy\n"
     ]
    }
   ],
   "source": [
    "index_word = tokenizer.index_word\n",
    "sentence = \"Help me Obi Wan Kenobi you are my only hope\"\n",
    "for i in range(100):\n",
    "    sequence = tokenizer.texts_to_sequences([sentence])[0]\n",
    "    sequence = pad_sequences([sequence],maxlen=max_length)\n",
    "    predictions = model.predict([sequence])\n",
    "    prediction = np.argmax(predictions)\n",
    "    word  = index_word.get(prediction)\n",
    "    sentence+=\" \"+word\n",
    "    \n",
    "print(sentence)"
   ]
  },
  {
   "cell_type": "code",
   "execution_count": 9,
   "metadata": {},
   "outputs": [
    {
     "data": {
      "text/plain": [
       "<matplotlib.axes._subplots.AxesSubplot at 0x2411de41308>"
      ]
     },
     "execution_count": 9,
     "metadata": {},
     "output_type": "execute_result"
    },
    {
     "data": {
      "image/png": "[encoded data removed]",
      "text/plain": [
       "<Figure size 432x288 with 1 Axes>"
      ]
     },
     "metadata": {
      "needs_background": "light"
     },
     "output_type": "display_data"
    }
   ],
   "source": [
    "import matplotlib.pyplot as plt\n",
    "import pandas as pd\n",
    "\n",
    "pd.DataFrame(history.history).plot()"
   ]
  },
  {
   "cell_type": "code",
   "execution_count": 11,
   "metadata": {},
   "outputs": [],
   "source": [
    "# model.save('model.h5')"
   ]
  }
 ],
 "metadata": {
  "kernelspec": {
   "display_name": "tfgpu",
   "language": "python",
   "name": "tfgpu"
  },
  "language_info": {
   "codemirror_mode": {
    "name": "ipython",
    "version": 3
   },
   "file_extension": ".py",
   "mimetype": "text/x-python",
   "name": "python",
   "nbconvert_exporter": "python",
   "pygments_lexer": "ipython3",
   "version": "3.7.6"
  }
 },
 "nbformat": 4,
 "nbformat_minor": 4
}
